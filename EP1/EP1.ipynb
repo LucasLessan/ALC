{
  "cells": [
    {
      "cell_type": "markdown",
      "metadata": {
        "id": "ruYnh950B_xv"
      },
      "source": [
        "# Exercício de Programação 1\n",
        "\n",
        "<font color=\"red\">**Prazo de submissão: 23:55 do dia 04.01.2021** </font>\n",
        "\n",
        "2020.2 Álgebra Linear Computacional - DCC - UFMG\n",
        "\n",
        "Erickson - Fabricio\n",
        "\n",
        "Instruções:\n",
        "* Antes de submeter suas soluções, certifique-se de que tudo roda como esperado. Primeiro, **reinicie o kernel** no menu, selecione Kernel$\\rightarrow$Restart e então execute **todas as células** (no menu, Cell$\\rightarrow$Run All)\n",
        "* Apenas o arquivo .ipynb deve ser submetido. Ele não deve ser compactado.\n",
        "* Não deixe de preencher seu nome e número de matrícula na célula a seguir"
      ]
    },
    {
      "cell_type": "markdown",
      "metadata": {
        "id": "x4CsNEoOF4BC"
      },
      "source": [
        "**Autor:** Lucas S. Teles"
      ]
    },
    {
      "cell_type": "code",
      "execution_count": 1,
      "metadata": {
        "id": "dpJ_ImHOGe9h"
      },
      "outputs": [],
      "source": [
        "import numpy as np\n",
        "import matplotlib.pyplot as plt\n",
        "import random"
      ]
    },
    {
      "cell_type": "markdown",
      "metadata": {
        "id": "Wj3pr8MlsKDK"
      },
      "source": [
        "### Questão 1\n",
        "\n",
        "Dadas as matrizes $A$, $B$ e o vetor $C$:\n",
        "\n",
        "$$\n",
        "A = \\begin{bmatrix}\n",
        " 2 & 1 & 3\\\\\n",
        " 3 & 1 & 4\\\\\n",
        " 5 & 7 & 12\n",
        "\\end{bmatrix}_{3\\times 3}\n",
        "\\qquad\n",
        "B = \\begin{bmatrix}\n",
        " 1 & 0 & 0\\\\\n",
        " 0 & 1 & 0\\\\\n",
        " 0 & 0 & 1\n",
        "\\end{bmatrix}_{3\\times 3}\n",
        "\\qquad\n",
        "C = \\begin{bmatrix}\n",
        " 3 \\\\\n",
        " 1 \\\\\n",
        " 2\n",
        "\\end{bmatrix}_{3\\times 1}\n",
        "$$\n",
        "\n",
        "Gere as matrizes D, E e o vetor F tal que:\n",
        "\n",
        "$$\n",
        "D = A B \\\\\n",
        "E = A^\\top + B\\\\\n",
        "F = A  C\n",
        "$$\n",
        "\n",
        "*Dicas:*\n",
        "* *Imprima ```A.shape, B.shape, C.shape``` e confira se as dimensões de suas matrizes batem com a descrição do enunciado.*\n",
        "* As operações de produto e transposição estão definidas na documentação da biblioteca ```numpy```."
      ]
    },
    {
      "cell_type": "code",
      "execution_count": 2,
      "metadata": {
        "colab": {
          "base_uri": "https://localhost:8080/"
        },
        "id": "9ttFs0HQxBj-",
        "outputId": "54d3caa3-a070-4346-efbe-3ac2777a17ea"
      },
      "outputs": [
        {
          "name": "stdout",
          "output_type": "stream",
          "text": [
            "[[ 2  1  3]\n",
            " [ 3  1  4]\n",
            " [ 5  7 12]] \n",
            "\n",
            "[[ 3  3  5]\n",
            " [ 1  2  7]\n",
            " [ 3  4 13]] \n",
            "\n",
            "[[13]\n",
            " [18]\n",
            " [46]] \n",
            "\n"
          ]
        }
      ],
      "source": [
        "a = np.array([[2, 1, 3],\n",
        "             [3, 1, 4],\n",
        "             [5, 7, 12]])\n",
        "#print(a)\n",
        "#print(a.shape)\n",
        "\n",
        "b = np.eye(3, dtype=int)\n",
        "#print(b)\n",
        "#print(b.shape)\n",
        "\n",
        "c = np.array([[3],\n",
        "             [1],\n",
        "             [2]])\n",
        "#print(c)\n",
        "#print(c.shape)\n",
        "\n",
        "d = a.dot(b)\n",
        "e = a.T + b\n",
        "f = a.dot(c)\n",
        "\n",
        "print(d, '\\n')\n",
        "#print(d.shape)\n",
        "\n",
        "print(e, '\\n')\n",
        "#print(e.shape)\n",
        "\n",
        "print(f, '\\n')\n",
        "#print(f.shape)\n",
        "\n",
        "#D=AB - E=A⊤+B - F=AC"
      ]
    },
    {
      "cell_type": "markdown",
      "metadata": {
        "id": "6rP_Qt3xGiZv"
      },
      "source": [
        "### Questão 2\n"
      ]
    },
    {
      "cell_type": "markdown",
      "metadata": {
        "id": "s27s4Jp-U9n1"
      },
      "source": [
        "\n",
        "#### Questão 2.1\n",
        "\n",
        "Uma forma de representar um vetor no espaço é através de um ponto localizado na extremidade da \"seta\" do vetor. Essa representação é especialmente útil quando queremos vizualizar uma grande quantidade de vetores. Crie um array chamado `dados`, de tamanho $n \\times 2$, em que cada linha represente um dos seguintes vetores de tamanho 2:\n",
        "\n",
        "- $(\\ 0.7,\\ 0.7\\ )$\n",
        "- $(\\ 0.0,\\ 1.0\\ )$\n",
        "- $(\\ -0.7,\\ 0.7\\ )$\n",
        "- $(\\ -1.0,\\ 0.0\\ )$\n",
        "- $(\\ -0.7,\\ -0.7\\ )$\n",
        "- $(\\ 0.0,\\ -1.0\\ )$\n",
        "- $(\\ 0.7,\\ -0.7\\ )$\n",
        "- $(\\ 1.0,\\ 0.0\\ )$\n",
        "\n",
        "\n",
        "Você pode achar a documentação do [`np.array`](https://numpy.org/doc/stable/reference/generated/numpy.array.html) útil."
      ]
    },
    {
      "cell_type": "code",
      "execution_count": 3,
      "metadata": {
        "id": "laSnwDnTT2b2"
      },
      "outputs": [],
      "source": [
        "dados = np.array([[.7, .7],\n",
        "             [0, 1],\n",
        "             [-.7, .7],\n",
        "             [-1, 0],\n",
        "             [-.7, -.7],\n",
        "             [0, -1],\n",
        "             [.7, -.7],\n",
        "             [1, 0]])\n",
        "\n",
        "#print(dados)"
      ]
    },
    {
      "cell_type": "markdown",
      "metadata": {
        "id": "MQBRlGAST7YU"
      },
      "source": [
        "#### Questão 2.2\n",
        "\n",
        "Vamos agora visualizar esses pontos no espaço 2D. Para isso, podemos usar a biblioteca [`matplotlib`](https://matplotlib.org/). Agora, com as coordenadas $x$ e $y$ dos pontos do exercício anterior, crie um gráfico de dispersão que mostre cada ponto no plano. Voce pode achar a documentação de [`plt.scatter`](https://matplotlib.org/3.1.0/api/_as_gen/matplotlib.pyplot.scatter.html) útil, além da dica que para escolher a coluna $i$ de um array bi-dimensional usamos `x[:, i]` (consulte essa página sobre [indexing](https://numpy.org/doc/stable/reference/arrays.indexing.html) em `numpy.arrays` para mais detalhes)."
      ]
    },
    {
      "cell_type": "code",
      "execution_count": 4,
      "metadata": {
        "colab": {
          "base_uri": "https://localhost:8080/",
          "height": 282
        },
        "id": "5EQWl7ATGtr1",
        "outputId": "e82f679b-0d40-429e-ca2c-44c67455c026"
      },
      "outputs": [
        {
          "data": {
            "text/plain": [
              "<matplotlib.collections.PathCollection at 0x7f414654a2e8>"
            ]
          },
          "execution_count": 4,
          "metadata": {
            "tags": []
          },
          "output_type": "execute_result"
        },
        {
          "data": {
            "image/png": "[encoded data removed]",
            "text/plain": [
              "<Figure size 432x288 with 1 Axes>"
            ]
          },
          "metadata": {
            "needs_background": "light",
            "tags": []
          },
          "output_type": "display_data"
        }
      ],
      "source": [
        "plt.scatter(dados[:, 0], dados[:, 1])  \n",
        "\n",
        "# Cores diferentes\n",
        "#for i in range(0, 8):\n",
        "#  plt.scatter(dados[i, 0], dados[i, 1])  \n"
      ]
    },
    {
      "cell_type": "markdown",
      "metadata": {
        "id": "HjvjGXteUoa4"
      },
      "source": [
        "#### Questão 2.3\n",
        "\n",
        "Agora que temos como visualizar os vetores no plano, vamos fazer operação de adição de vetores. Crie um array que represente um vetor $\\textbf{a}=(\\ 6,\\ 9\\ )$ e adicione-o a todos os vetores no nosso array, criando um novo array chamado `novos_dados`.\n",
        "\n",
        "**Dica**: Quando estamos tratando de matrizes, não podemos simplesmente adicionar uma matriz de tamanho $n \\times 2$ por um vetor de tamanho $2$, ou $1 \\times 2$. Porém, o `numpy` tem uma funcionalidade que é muito útil quando queremos fazer operações entre arrays que não possuem o mesmo tamanho, como é o nosso caso (podemos ver isso usando: `print(dados.shape, a.shape)`). Essa funcionalidade é o [broadcasting](https://numpy.org/doc/stable/user/basics.broadcasting.html), e ela nos ajuda a fazer operações entre arrays que não possuem o mesmo tamanho, mas algumas dimensões são compatíveis. "
      ]
    },
    {
      "cell_type": "code",
      "execution_count": 5,
      "metadata": {
        "colab": {
          "base_uri": "https://localhost:8080/"
        },
        "id": "E3Yg_vv1U2Q6",
        "outputId": "cef482be-a853-449d-f9cc-62d1c37d1990"
      },
      "outputs": [
        {
          "name": "stdout",
          "output_type": "stream",
          "text": [
            "[[ 6.7  9.7]\n",
            " [ 6.  10. ]\n",
            " [ 5.3  9.7]\n",
            " [ 5.   9. ]\n",
            " [ 5.3  8.3]\n",
            " [ 6.   8. ]\n",
            " [ 6.7  8.3]\n",
            " [ 7.   9. ]]\n"
          ]
        }
      ],
      "source": [
        "# Eu usei a2 para não perder o vetor a do primeiro exercício\n",
        "\n",
        "a2 = np.array([6, 9])\n",
        "novos_dados = dados + a2\n",
        "print(novos_dados)"
      ]
    },
    {
      "cell_type": "markdown",
      "metadata": {
        "id": "dx5BrTVbdUS7"
      },
      "source": [
        "#### Questão 2.4\n",
        "\n",
        "Note que para somar arrays de dimensões diferentes (nesse caso, dados é 2D e a é 1D), o broadcasting primeiro adiciona dimensões de tamanho 1 ao início do array com menos dimensões. Só depois ele expande as dimensões de tamanho 1 para que casem com os tamanhos das dimensões do outro array.\n",
        "\n",
        "Portanto, devemos pensar no array ```a``` como um vetor coluna ou como um vetor linha?"
      ]
    },
    {
      "cell_type": "markdown",
      "metadata": {
        "id": "vVVBkK6ceWP9"
      },
      "source": [
        "**Resposta:** Como dito no exercício 2.1 \"*Crie um array chamado dados, de tamanho  n×2 , em que **cada linha represente um dos seguintes vetores** de tamanho 2:*\", cada linha representa um vetor, portanto ao somar o vetor a (a2 no meu caso) com o vetor dados, o broadcasting \"multiplica\" o vetor **linha** a em vários outros para \"casar\" com o número de linhas do vetor dados."
      ]
    },
    {
      "cell_type": "markdown",
      "metadata": {
        "id": "DxzZGekorL3m"
      },
      "source": [
        "#### Questão 2.5\n",
        "\n",
        "Agora podemos ver no espaço 2D nossos vetores originais e os vetores resultantes da soma. Para isso, podemos usar a mesma função que usamos para criar o gráfico de dispersão na **Questão 2.2**, porém agora queremos mostrar os pontos de 2 arrays, e não de apenas 1."
      ]
    },
    {
      "cell_type": "code",
      "execution_count": 6,
      "metadata": {
        "colab": {
          "base_uri": "https://localhost:8080/",
          "height": 282
        },
        "id": "xeBdgoFMrQwP",
        "outputId": "a8014086-c8cb-4449-87e3-bb995f72b9a3"
      },
      "outputs": [
        {
          "data": {
            "text/plain": [
              "<matplotlib.collections.PathCollection at 0x7f414603b0b8>"
            ]
          },
          "execution_count": 6,
          "metadata": {
            "tags": []
          },
          "output_type": "execute_result"
        },
        {
          "data": {
            "image/png": "[encoded data removed]",
            "text/plain": [
              "<Figure size 432x288 with 1 Axes>"
            ]
          },
          "metadata": {
            "needs_background": "light",
            "tags": []
          },
          "output_type": "display_data"
        }
      ],
      "source": [
        "plt.scatter(dados[:, 0], dados[:, 1])\n",
        "plt.scatter(novos_dados[:, 0], novos_dados[:, 1])\n"
      ]
    },
    {
      "cell_type": "markdown",
      "metadata": {
        "id": "Sz1apyFP090L"
      },
      "source": [
        "### Questão 3\n",
        "\n",
        "Como visto em aula, a multiplicação de uma matriz $G$ por um vetor $\\mathbb{x}$ pode ser vista como uma combinação linear das colunas de $G$.\n"
      ]
    },
    {
      "cell_type": "markdown",
      "metadata": {
        "id": "6Ij42r1ctg0g"
      },
      "source": [
        "\n",
        "#### Questão 3.1\n",
        "\n",
        "Dado a matriz $G$ e o vetor $\\mathbb{x}$:\n",
        "\n",
        "$$\n",
        "G = \\begin{bmatrix}\n",
        " 3 & 6 & 9\\\\\n",
        " 5 & 10 & 15\n",
        "\\end{bmatrix}_{2\\times 3}\n",
        "\\qquad\n",
        "\\mathbb{x} = \\begin{bmatrix}\n",
        " 2 \\\\\n",
        " 1 \\\\\n",
        " 1\n",
        "\\end{bmatrix}_{3\\times 1}\n",
        "$$\n",
        "\n",
        "Gere o vetor $\\mathbb{y}$ tal que:\n",
        "$$\n",
        "\\mathbb{y} = G \\mathbb{x} \\\\\n",
        "$$\n"
      ]
    },
    {
      "cell_type": "code",
      "execution_count": 7,
      "metadata": {
        "colab": {
          "base_uri": "https://localhost:8080/"
        },
        "id": "cGNQcr7Ptk0r",
        "outputId": "bc5527fc-671e-433d-f1c9-410ca0bc747b"
      },
      "outputs": [
        {
          "name": "stdout",
          "output_type": "stream",
          "text": [
            "[[21]\n",
            " [35]]\n"
          ]
        }
      ],
      "source": [
        "G = np.array([[3, 6, 9],\n",
        "             [5, 10, 15]])\n",
        "#print(G)\n",
        "#print(G.shape)\n",
        "\n",
        "x = np.array([[2], [1], [1]])\n",
        "#print(x)\n",
        "#print(x.shape)\n",
        "\n",
        "y = np.zeros((2,1), dtype=int)\n",
        "for i in range(0, 3):\n",
        "  for j in range(0, 2):\n",
        "    y[j] += G[j, i] * x[i]\n",
        "print(y)"
      ]
    },
    {
      "cell_type": "markdown",
      "metadata": {
        "id": "rD0TR2nPuIo8"
      },
      "source": [
        "#### Questão 3.2\n",
        "\n",
        "O espaço de colunas de uma matriz pode ser interpretado como o espaço formado por todas as combinações lineares das colunas da matriz. Então, vamos simular a representação do espaço de colunas da matriz $G$ criada anteriormente fazendo várias combinações lineares de suas colunas. Para isso, podemos criar vários vetores-coluna $x$ aleatórios, calcular a operação $y = Gx$ para cada um deles, e mostrar onde cada vetor $y$ está localizado no espaço. Portanto, faça os seguintes passos:\n",
        "\n",
        "1. Crie um vetor-coluna $x \\in \\mathbb{R}^{3 \\times 1}$ com valores aleatórios entre $-10$ e $10$.\n",
        "1. Calcule $y = Gx$. Esse passo pode ser feito da mesma forma que a **Questão 3.1**.\n",
        "1. Plote no plano 2D um ponto com as coordenadas do $y$ resultante.\n",
        "\n",
        "Repita esses passos 10 vezes. **Dica:** para a criação dos valores $x$ aleatórios, voce pode escolher os números você mesmo ou usar a função [`np.random.randint`](https://numpy.org/doc/stable/reference/random/generated/numpy.random.randint.html). Para a  visualização, utilize a biblioteca [`matplotlib`](https://matplotlib.org/), e deixe para usar `plt.show()` apenas depois de ter plotado todos os vetores $y$, para que todos apareçam no mesmo gráfico."
      ]
    },
    {
      "cell_type": "code",
      "execution_count": 8,
      "metadata": {
        "colab": {
          "base_uri": "https://localhost:8080/",
          "height": 265
        },
        "id": "bf8B6CPPwXsE",
        "outputId": "b6292aa6-4f5d-4267-be95-64fcade3ed78"
      },
      "outputs": [
        {
          "data": {
            "image/png": "[encoded data removed]",
            "text/plain": [
              "<Figure size 432x288 with 1 Axes>"
            ]
          },
          "metadata": {
            "needs_background": "light",
            "tags": []
          },
          "output_type": "display_data"
        }
      ],
      "source": [
        "for k in range(0, 10):\n",
        "  x = np.random.randint(-10, 11, size=(3, 1))\n",
        "\n",
        "  y = np.zeros((2,1), dtype=int)\n",
        "  for i in range(0, 3):\n",
        "    for j in range(0, 2):\n",
        "      y[j] += G[j, i] * x[i]\n",
        "  plt.scatter(y[0], y[1])\n",
        "plt.show()"
      ]
    },
    {
      "cell_type": "markdown",
      "metadata": {
        "id": "WWwfDjZQyBKt"
      },
      "source": [
        "#### Questão 3.3\n",
        "\n",
        "No item anterior, você deve ter obtido uma reta ao visualizar o gráfico resultante. Por que isso acontece no caso dessa matriz $G$ em específico?"
      ]
    },
    {
      "cell_type": "markdown",
      "metadata": {
        "id": "mpB7U8BqyEQl"
      },
      "source": [
        "**Resposta:** A matriz G possui apenas uma coluna (e uma linha) linearmente independente como se pode ver que tanto a segunda, quanto a terceira colunas são múltiplas da primeira (e vice-versa). Dessa maneira, o espaço coluna de G possui apenas um vetor, ou seja, posto 1, portanto, dimensão 1, o que significa que todas as combinações lineares dessa matriz estarão sobre uma reta que passa pela origem e pelo ponto (3, 5)."
      ]
    },
    {
      "cell_type": "markdown",
      "metadata": {
        "id": "9XrQcmBc4RVE"
      },
      "source": [
        "#### Questão 3.4\n",
        "\n",
        "Agora que sabemos que o espaço coluna da matriz $G$ é uma reta, encontre dois pontos no espaço coluna $C(G)$ e use o comando ```plt.plot()``` para traçá-la."
      ]
    },
    {
      "cell_type": "code",
      "execution_count": 9,
      "metadata": {
        "colab": {
          "base_uri": "https://localhost:8080/",
          "height": 265
        },
        "id": "S-zMnudo4kXZ",
        "outputId": "1123eee5-48b9-4db2-c390-4cfd4e4cf279"
      },
      "outputs": [
        {
          "data": {
            "image/png": "[encoded data removed]",
            "text/plain": [
              "<Figure size 432x288 with 1 Axes>"
            ]
          },
          "metadata": {
            "needs_background": "light",
            "tags": []
          },
          "output_type": "display_data"
        }
      ],
      "source": [
        "rndm1 = random.randint(1, 6)\n",
        "rndm2 = random.randint(6, 11)\n",
        "plt.plot(rndm1 * G[0, 0], rndm1 * G[1, 0], 'ro')\n",
        "plt.plot(rndm2 * G[0, 0], rndm2 * G[1, 0], 'ro')\n",
        "plt.plot(0 * G[0, 0], 0 * G[1, 0], 'ro')\n",
        "plt.show()\n"
      ]
    }
  ],
  "metadata": {
    "colab": {
      "collapsed_sections": [],
      "name": "EP1.ipynb",
      "provenance": []
    },
    "kernelspec": {
      "display_name": "Python 3",
      "language": "python",
      "name": "python3"
    },
    "language_info": {
      "codemirror_mode": {
        "name": "ipython",
        "version": 3
      },
      "file_extension": ".py",
      "mimetype": "text/x-python",
      "name": "python",
      "nbconvert_exporter": "python",
      "pygments_lexer": "ipython3",
      "version": "3.6.8"
    }
  },
  "nbformat": 4,
  "nbformat_minor": 0
}
